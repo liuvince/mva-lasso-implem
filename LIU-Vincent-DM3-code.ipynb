{
 "cells": [
  {
   "cell_type": "markdown",
   "metadata": {},
   "source": [
    "# Vincent LIU MVA - HW3 LASSO CONVEX OPTIMIZATION"
   ]
  },
  {
   "cell_type": "markdown",
   "metadata": {},
   "source": [
    "Theorical results and observations are detailled in the report."
   ]
  },
  {
   "cell_type": "code",
   "execution_count": 1,
   "metadata": {},
   "outputs": [],
   "source": [
    "# Import libraries\n",
    "import numpy as np\n",
    "import os\n",
    "import matplotlib.pyplot as plt\n",
    "import seaborn as sns\n",
    "\n",
    "sns.set()\n",
    "sns.set_style('whitegrid')"
   ]
  },
  {
   "cell_type": "code",
   "execution_count": 2,
   "metadata": {},
   "outputs": [],
   "source": [
    "# Utility functions\n",
    "def is_feasible(Q, p, A, b, v):\n",
    "    return (np.dot(A, v) >= b).sum() == 0\n",
    "\n",
    "def f0(Q, p, A, b, v):\n",
    "    return np.dot(np.dot(v, Q), v) + np.dot(p, v)\n",
    "\n",
    "def f(Q, p, A, b, v, t):\n",
    "    return t * f0(Q, p, A, b, v) - np.sum(np.log(-np.dot(A, v) + b))"
   ]
  },
  {
   "cell_type": "code",
   "execution_count": 3,
   "metadata": {},
   "outputs": [],
   "source": [
    "def backtracking_line_search(Q, p, A, b, v, t,\n",
    "                             newton_step, newton_decrement,\n",
    "                             alpha=0.1, beta=0.6):\n",
    "    flag = 0\n",
    "    step_size = 1\n",
    "    f_v = f(Q, p, A, b, v, t)\n",
    "\n",
    "    # Check that the solution is feasible, before evaluating the logarithm\n",
    "    while not is_feasible(Q, p, A, b, v + step_size * newton_step):\n",
    "        step_size *= beta\n",
    "        \n",
    "    diff = f(Q, p, A, b, v + step_size * newton_step, t) - (f_v - alpha * step_size * newton_decrement)\n",
    "    while diff > 0:\n",
    "        step_size *= beta\n",
    "        diff = f(Q, p, A, b, v + step_size * newton_step, t) - (f_v - alpha * step_size * newton_decrement)\n",
    "        # Avoid infinite loop\n",
    "        if diff < 1e-16:\n",
    "            flag = 1\n",
    "\n",
    "    return step_size, flag"
   ]
  },
  {
   "cell_type": "code",
   "execution_count": 14,
   "metadata": {},
   "outputs": [],
   "source": [
    "def centering_step(Q, p, A, b, t, v, eps, verbose=False):\n",
    "\n",
    "    # Precompute A_i^T A_i outer product for the hessian\n",
    "    hess_phi_num = np.zeros((A.shape[0], A.shape[1], A.shape[1]))\n",
    "    for i in range(A.shape[0]):\n",
    "        hess_phi_num[i] = np.outer(A[i, :], A[i, :].T)\n",
    "\n",
    "    # Output information\n",
    "    v_inner_seq = []\n",
    "    v_inner_seq.append(v)\n",
    "    n_inner_eps = 0\n",
    "    newton_decrements_inner = []\n",
    "    \n",
    "    while True:\n",
    "        grad_phi_denom = (-1. / (np.dot(A, v) + b))\n",
    "\n",
    "        # Compute gradient\n",
    "        grad_f = t * (2 * np.dot(Q, v) + p) + np.dot(A.T, grad_phi_denom)\n",
    "\n",
    "        # Compute hessian\n",
    "        hess_f = 2 * t * Q + np.tensordot(np.power(grad_phi_denom, 2), hess_phi_num, 1)\n",
    "\n",
    "        # Compute newton step and newton decrement\n",
    "        inv_hess_f = np.linalg.inv(hess_f)\n",
    "        newton_step = - np.dot(inv_hess_f, grad_f)\n",
    "        newton_decrement = np.dot(grad_f, -newton_step)\n",
    "\n",
    "        # Stopping criterion\n",
    "        if newton_decrement / 2 <= eps:\n",
    "            break\n",
    "            \n",
    "        # Backtracking line search\n",
    "        step_size, flag = backtracking_line_search(Q, p, A, b, v, t,\n",
    "                                             newton_step, newton_decrement)\n",
    "        if flag:\n",
    "            break\n",
    "            \n",
    "        # Update parameters\n",
    "        v = v + newton_step * step_size\n",
    "        \n",
    "        # Update output information\n",
    "        v_inner_seq.append(v)\n",
    "        n_inner_eps += 1\n",
    "        newton_decrements_inner.append(newton_decrement)\n",
    "               \n",
    "        if verbose:\n",
    "            print(\"Inner iteration: {:02d} | f(v) = {:.8f} | Newton decrement = {:.2f}\".format(n_inner_eps, \n",
    "                                                                        f0(Q, p, A, b, v),\n",
    "                                                                        newton_decrement))\n",
    "        \n",
    "    return v_inner_seq, n_inner_eps, newton_decrements_inner"
   ]
  },
  {
   "cell_type": "code",
   "execution_count": 15,
   "metadata": {},
   "outputs": [],
   "source": [
    "def barr_method(Q, p, A, b, v0, t, mu, eps, verbose=False):\n",
    "    \n",
    "    # Output Information\n",
    "    v_inner_seq_list = []\n",
    "    n_inner_eps_list = []\n",
    "    n_outer_eps = 0\n",
    "    v_outer_seq = []\n",
    "    v = v0\n",
    "    newton_decrements_outer = []\n",
    "    \n",
    "    while True:\n",
    "        if verbose:\n",
    "            print(\"Outer iteration: {}\".format(n_outer_eps))\n",
    "            \n",
    "        # Centering step\n",
    "        v_inner_seq, n_inner_eps, newton_decrements_inner = centering_step(Q, p, A, b, t, v, eps, verbose)\n",
    "        v = v_inner_seq[-1]\n",
    "\n",
    "        # Stopping criterion\n",
    "        if m / t < eps:\n",
    "            break\n",
    "\n",
    "        # ********************\n",
    "        # Increment variables #\n",
    "        # ******************* \n",
    "        t *= mu\n",
    "        v_inner_seq_list += v_inner_seq\n",
    "        n_inner_eps_list.append(n_inner_eps)\n",
    "        n_outer_eps = n_outer_eps + 1\n",
    "        v_outer_seq = v_outer_seq + v_inner_seq\n",
    "        newton_decrements_outer.append(newton_decrements_inner)\n",
    "    return v_outer_seq, n_outer_eps, v_inner_seq_list, n_inner_eps_list, newton_decrements_outer"
   ]
  },
  {
   "cell_type": "markdown",
   "metadata": {},
   "source": [
    "## Parameters for experiments"
   ]
  },
  {
   "cell_type": "code",
   "execution_count": 16,
   "metadata": {},
   "outputs": [],
   "source": [
    "# Dimension parameters\n",
    "d = 100\n",
    "n = 50\n",
    "m = 2 * d\n",
    "\n",
    "# Generate random data\n",
    "np.random.seed(seed=1)\n",
    "X = np.random.randn(n, d)\n",
    "y = np.random.randn(n, )\n",
    "lambd = 10\n",
    "\n",
    "# Dual variable of the QP optimization problem\n",
    "Q = np.eye(n, n) * 0.5\n",
    "p = y\n",
    "A = np.zeros((2 * d, n))\n",
    "A[:d, :] = X.T\n",
    "A[d:, :] = -X.T\n",
    "b = lambd * np.ones((2 * d,))\n",
    "\n",
    "# Barrier method parameters\n",
    "eps = 1e-6\n",
    "t = 1\n",
    "v0 = np.zeros(n, )\n",
    "assert (is_feasible(Q, p, A, b, v0))"
   ]
  },
  {
   "cell_type": "markdown",
   "metadata": {},
   "source": [
    "## Sanity check"
   ]
  },
  {
   "cell_type": "markdown",
   "metadata": {},
   "source": [
    "Verify that the code is actually running.\n",
    "\n",
    "Verify that solution is good: KKT conditions are hold as well as strong duality."
   ]
  },
  {
   "cell_type": "code",
   "execution_count": 17,
   "metadata": {},
   "outputs": [],
   "source": [
    "def recover_w(X, y, lambd, v):\n",
    "    is_sparse = ((np.abs(np.dot(v, X)) + 1e-3) < lambd).astype(int)\n",
    "    not_sparse = (is_sparse == 0).astype(int)\n",
    "\n",
    "    w = np.zeros(d,)\n",
    "    X_bar = X[:, np.where(not_sparse)[0]]\n",
    "    w[np.where(not_sparse)[0]] = np.linalg.inv(np.dot(X_bar.T, X_bar)).dot(X_bar.T).dot(v+y)\n",
    "    return w\n",
    "\n",
    "def compute_primal_objective(X, y, w, lambd):\n",
    "    z = np.dot(X, w) - y\n",
    "    return 0.5 * np.linalg.norm(z, 2)**2 + lambd * np.linalg.norm(w, 1)\n",
    "\n",
    "def compute_dual_objective(v, y):\n",
    "    return -0.5 * np.dot(v_star, v_star) - np.dot(y, v_star)"
   ]
  },
  {
   "cell_type": "code",
   "execution_count": 18,
   "metadata": {},
   "outputs": [
    {
     "name": "stdout",
     "output_type": "stream",
     "text": [
      "Outer iteration: 0\n",
      "Inner iteration: 01 | f(v) = -12.05294045 | Newton decrement = 16.27\n",
      "Inner iteration: 02 | f(v) = -11.61381538 | Newton decrement = 0.07\n",
      "Inner iteration: 03 | f(v) = -11.60259399 | Newton decrement = 0.00\n",
      "Outer iteration: 1\n",
      "Inner iteration: 01 | f(v) = -15.35874541 | Newton decrement = 612.62\n",
      "Inner iteration: 02 | f(v) = -16.87647816 | Newton decrement = 228.89\n",
      "Inner iteration: 03 | f(v) = -17.69519725 | Newton decrement = 71.32\n",
      "Inner iteration: 04 | f(v) = -17.86262307 | Newton decrement = 6.81\n",
      "Inner iteration: 05 | f(v) = -17.85415316 | Newton decrement = 0.03\n",
      "Inner iteration: 06 | f(v) = -17.85393532 | Newton decrement = 0.00\n",
      "Outer iteration: 2\n",
      "Inner iteration: 01 | f(v) = -17.89609953 | Newton decrement = 2258.36\n",
      "Inner iteration: 02 | f(v) = -17.92156934 | Newton decrement = 1347.93\n",
      "Inner iteration: 03 | f(v) = -17.97376727 | Newton decrement = 1029.39\n",
      "Inner iteration: 04 | f(v) = -18.00206245 | Newton decrement = 539.88\n",
      "Inner iteration: 05 | f(v) = -18.02124354 | Newton decrement = 215.44\n",
      "Inner iteration: 06 | f(v) = -18.03822929 | Newton decrement = 71.45\n",
      "Inner iteration: 07 | f(v) = -18.03776071 | Newton decrement = 1.15\n",
      "Inner iteration: 08 | f(v) = -18.03753286 | Newton decrement = 0.31\n",
      "Inner iteration: 09 | f(v) = -18.03746001 | Newton decrement = 0.02\n",
      "Inner iteration: 10 | f(v) = -18.03745269 | Newton decrement = 0.00\n",
      "Outer iteration: 3\n",
      "Inner iteration: 01 | f(v) = -18.03896494 | Newton decrement = 11052.16\n",
      "Inner iteration: 02 | f(v) = -18.03978755 | Newton decrement = 2106.63\n",
      "Inner iteration: 03 | f(v) = -18.03993731 | Newton decrement = 135.30\n",
      "Inner iteration: 04 | f(v) = -18.04022660 | Newton decrement = 72.78\n",
      "Inner iteration: 05 | f(v) = -18.04027008 | Newton decrement = 9.23\n",
      "Inner iteration: 06 | f(v) = -18.04026483 | Newton decrement = 1.40\n",
      "Inner iteration: 07 | f(v) = -18.04026163 | Newton decrement = 1.00\n",
      "Inner iteration: 08 | f(v) = -18.04026025 | Newton decrement = 0.82\n",
      "Inner iteration: 09 | f(v) = -18.04025896 | Newton decrement = 0.65\n",
      "Inner iteration: 10 | f(v) = -18.04025710 | Newton decrement = 0.37\n",
      "Inner iteration: 11 | f(v) = -18.04025546 | Newton decrement = 0.11\n",
      "Inner iteration: 12 | f(v) = -18.04025494 | Newton decrement = 0.01\n",
      "Inner iteration: 13 | f(v) = -18.04025491 | Newton decrement = 0.00\n",
      "Outer iteration: 4\n",
      "Inner iteration: 01 | f(v) = -18.04029453 | Newton decrement = 14449.02\n",
      "Inner iteration: 02 | f(v) = -18.04030178 | Newton decrement = 535.71\n",
      "Inner iteration: 03 | f(v) = -18.04030699 | Newton decrement = 144.25\n",
      "Inner iteration: 04 | f(v) = -18.04030832 | Newton decrement = 31.81\n",
      "Inner iteration: 05 | f(v) = -18.04030896 | Newton decrement = 1.87\n",
      "Inner iteration: 06 | f(v) = -18.04030882 | Newton decrement = 0.18\n",
      "Inner iteration: 07 | f(v) = -18.04030879 | Newton decrement = 0.01\n",
      "Inner iteration: 08 | f(v) = -18.04030879 | Newton decrement = 0.00\n",
      "Outer iteration: 5\n",
      "Inner iteration: 01 | f(v) = -18.04030966 | Newton decrement = 15814.70\n",
      "Inner iteration: 02 | f(v) = -18.04030980 | Newton decrement = 882.44\n",
      "\n",
      "w has 93 zero coefficients\n",
      "\n",
      "Optimal value is: 18.040309912713198\n"
     ]
    }
   ],
   "source": [
    "mu = 50\n",
    "v_outer_seq, _, _, _, _ = barr_method(Q, p, A, b, v0, t, mu, eps, verbose=True)\n",
    "v_star = v_outer_seq[-1]\n",
    "\n",
    "# Recover w: see page 5 of the report\n",
    "w = recover_w(X, y, lambd, v_star)\n",
    "print('\\nw has {} zero coefficients'.format((w == 0).sum()))\n",
    "\n",
    "# Strong duality\n",
    "primal_opt_value = compute_primal_objective(X, y, w, lambd)\n",
    "dual_opt_value   = compute_dual_objective(v_star, y)\n",
    "print('\\nOptimal value is: {}'.format(primal_opt_value))\n",
    "assert(np.abs(primal_opt_value - dual_opt_value) < 1e-1)\n",
    "\n",
    "# Dual feasibility\n",
    "assert(np.abs(np.linalg.norm(np.dot(X.T, v_star), np.inf) - lambd) < 1e-1)"
   ]
  },
  {
   "cell_type": "markdown",
   "metadata": {},
   "source": [
    "## Duality gap with respect to newton iterations"
   ]
  },
  {
   "cell_type": "code",
   "execution_count": 19,
   "metadata": {},
   "outputs": [],
   "source": [
    "plot_dir = \"plot\"\n",
    "if not os.path.exists(plot_dir):\n",
    "    os.makedirs(plot_dir)"
   ]
  },
  {
   "cell_type": "code",
   "execution_count": 20,
   "metadata": {},
   "outputs": [
    {
     "data": {
      "image/png": "[encoded data removed]",
      "text/plain": [
       "<Figure size 432x288 with 1 Axes>"
      ]
     },
     "metadata": {},
     "output_type": "display_data"
    }
   ],
   "source": [
    "# Duality gap with respect to newton iterations\n",
    "figure_name = \"duality_gap_iterations.png\"\n",
    "plt.figure()\n",
    "\n",
    "for mu in [2, 20, 50, 200]:\n",
    "    v_outer_seq, _, v_inner_seq_list, _, _ = barr_method(Q, p, A, b, v0, t, mu, eps)\n",
    "\n",
    "    dual_values = np.array([f0(Q, p, A, b, v) for v in v_outer_seq])\n",
    "    \n",
    "    duality_gap = np.abs(dual_values - dual_values[-1])\n",
    "    iters = np.arange(len(duality_gap))\n",
    "    \n",
    "    plt.semilogy(range(len(duality_gap))[:-1], duality_gap[:-1], label='mu = {}'.format(mu))\n",
    "\n",
    "plt.xlabel('Newton iterations')\n",
    "plt.ylabel('Duality gap')\n",
    "plt.title(\"Duality gap with respect to newton iterations eps={}\".format(eps))\n",
    "plt.legend()\n",
    "sns.despine()\n",
    "plt.savefig(os.path.join(plot_dir, figure_name))\n",
    "plt.show()"
   ]
  },
  {
   "cell_type": "markdown",
   "metadata": {},
   "source": [
    "## Newton decrement"
   ]
  },
  {
   "cell_type": "markdown",
   "metadata": {},
   "source": [
    "The newton decrement quadratically decreases. I fixed the second outer iterations of the barrier method, and I plotted in semi log scale."
   ]
  },
  {
   "cell_type": "code",
   "execution_count": 21,
   "metadata": {},
   "outputs": [
    {
     "data": {
      "image/png": "[encoded data removed]",
      "text/plain": [
       "<Figure size 432x288 with 1 Axes>"
      ]
     },
     "metadata": {},
     "output_type": "display_data"
    }
   ],
   "source": [
    "# Newton decrement with respect to inner newton iterations\n",
    "figure_name = \"newton_decrement_iterations.png\"\n",
    "plt.figure()\n",
    "\n",
    "for mu in [2, 20, 50, 100, 200]:\n",
    "    _, _, _, _, newton_decrements_outer = barr_method(Q, p, A, b, v0, t, mu, eps)\n",
    "\n",
    "    plt.semilogy(range(len(newton_decrements_outer[1])), newton_decrements_outer[1], label='mu = {}'.format(mu))\n",
    "\n",
    "plt.xlabel('Newton Inner iterations')\n",
    "plt.ylabel('Newton decrement (semilogy)')\n",
    "plt.title(\"Newton decrements of the second outer iteration eps={}\".format(eps))\n",
    "plt.legend()\n",
    "sns.despine()\n",
    "plt.savefig(os.path.join(plot_dir, figure_name))\n",
    "plt.show()"
   ]
  },
  {
   "cell_type": "markdown",
   "metadata": {},
   "source": [
    "## Newton iterations with respect to $\\mu$"
   ]
  },
  {
   "cell_type": "markdown",
   "metadata": {},
   "source": [
    "Newton iterations are not very sensitive to the value of $\\mu$."
   ]
  },
  {
   "cell_type": "code",
   "execution_count": 22,
   "metadata": {
    "scrolled": true
   },
   "outputs": [
    {
     "data": {
      "image/png": "[encoded data removed]",
      "text/plain": [
       "<Figure size 432x288 with 1 Axes>"
      ]
     },
     "metadata": {},
     "output_type": "display_data"
    }
   ],
   "source": [
    "# Newton iterations with respect to mu\n",
    "figure_name = \"newton_iterations_mu.png\"\n",
    "plt.figure()\n",
    "\n",
    "mu_list = [2, 5, 10, 15, 20, 30, 40, 50, 80, 100, 150, 200]\n",
    "n_inner_eps_list = []\n",
    "\n",
    "for mu in mu_list:\n",
    "    _, _, _, n_inner_eps, _ = barr_method(Q, p, A, b, v0, t, mu, eps)\n",
    "    n_inner_eps_list.append(sum(n_inner_eps))\n",
    "\n",
    "plt.plot(mu_list, n_inner_eps_list, 'o-')\n",
    "plt.xlabel('mu')\n",
    "plt.ylabel('Newton iterations')\n",
    "plt.title(\"Newton iterations with respect to mu\")\n",
    "sns.despine()\n",
    "plt.savefig(os.path.join(plot_dir, figure_name))"
   ]
  },
  {
   "cell_type": "markdown",
   "metadata": {},
   "source": [
    "# Impact of $\\mu$ on $w$"
   ]
  },
  {
   "cell_type": "markdown",
   "metadata": {},
   "source": [
    "The value of $\\mu$ has no impact on final solution $w$"
   ]
  },
  {
   "cell_type": "code",
   "execution_count": 23,
   "metadata": {},
   "outputs": [
    {
     "name": "stdout",
     "output_type": "stream",
     "text": [
      "mu: 02 \n",
      "The non zero coeffient of w are:\n",
      " [ 0.03803553  0.02019551  0.00041892 -0.02328629  0.01985518  0.02915047\n",
      " -0.09483682]\n",
      "primal: 18.040309911589837 | dual: 18.040309859435567\n",
      "\n",
      "\n",
      "mu: 05 \n",
      "The non zero coeffient of w are:\n",
      " [ 0.03803558  0.0201955   0.00041941 -0.02328624  0.01985524  0.02915052\n",
      " -0.09483671]\n",
      "primal: 18.040309911606222 | dual: 18.040309768257018\n",
      "\n",
      "\n",
      "mu: 10 \n",
      "The non zero coeffient of w are:\n",
      " [ 0.03803558  0.0201955   0.00041946 -0.02328624  0.01985525  0.02915052\n",
      " -0.0948367 ]\n",
      "primal: 18.040309911608563 | dual: 18.040309740823318\n",
      "\n",
      "\n",
      "mu: 15 \n",
      "The non zero coeffient of w are:\n",
      " [ 0.03803552  0.02019551  0.00041886 -0.0232863   0.01985517  0.02915046\n",
      " -0.09483684]\n",
      "primal: 18.040309911588874 | dual: 18.04030987062459\n",
      "\n",
      "\n",
      "mu: 20 \n",
      "The non zero coeffient of w are:\n",
      " [ 0.03803557  0.02019551  0.00041929 -0.02328626  0.01985524  0.02915051\n",
      " -0.09483674]\n",
      "primal: 18.040309911600794 | dual: 18.040309716156795\n",
      "\n",
      "\n",
      "mu: 30 \n",
      "The non zero coeffient of w are:\n",
      " [ 0.03803565  0.02019548  0.00042019 -0.02328615  0.01985534  0.0291506\n",
      " -0.09483653]\n",
      "primal: 18.040309911663343 | dual: 18.0403096236605\n",
      "\n",
      "\n",
      "mu: 40 \n",
      "The non zero coeffient of w are:\n",
      " [ 0.03803554  0.02019551  0.00041901 -0.02328628  0.01985519  0.02915048\n",
      " -0.0948368 ]\n",
      "primal: 18.040309911591635 | dual: 18.040309843231967\n",
      "\n",
      "\n",
      "mu: 50 \n",
      "The non zero coeffient of w are:\n",
      " [ 0.0380361   0.02019537  0.0004246  -0.02328566  0.01985591  0.02915105\n",
      " -0.09483552]\n",
      "primal: 18.040309912713198 | dual: 18.04030879255972\n",
      "\n",
      "\n",
      "mu: 80 \n",
      "The non zero coeffient of w are:\n",
      " [ 0.03803564  0.02019549  0.00042003 -0.02328617  0.01985533  0.02915058\n",
      " -0.09483657]\n",
      "primal: 18.040309911648606 | dual: 18.040309618815357\n",
      "\n",
      "\n",
      "mu: 100 \n",
      "The non zero coeffient of w are:\n",
      " [ 0.03803554  0.02019551  0.00041901 -0.02328628  0.01985519  0.02915048\n",
      " -0.0948368 ]\n",
      "primal: 18.04030991159184 | dual: 18.040309841598855\n",
      "\n",
      "\n",
      "mu: 150 \n",
      "The non zero coeffient of w are:\n",
      " [ 0.03799833  0.02021282 -0.02334058  0.01980955  0.02911193 -0.09493411]\n",
      "primal: 18.040315453125583 | dual: 18.040306746661393\n",
      "\n",
      "\n",
      "mu: 200 \n",
      "The non zero coeffient of w are:\n",
      " [ 0.03803597  0.0201954   0.00042331 -0.0232858   0.01985575  0.02915092\n",
      " -0.09483582]\n",
      "primal: 18.04030991227861 | dual: 18.040309037190884\n",
      "\n",
      "\n"
     ]
    }
   ],
   "source": [
    "# Newton iterations with respect to mu\n",
    "mu_list = [2, 5, 10, 15, 20, 30, 40, 50, 80, 100, 150, 200]\n",
    "\n",
    "for mu in mu_list:\n",
    "    v_outer_seq, _, _, _, _ = barr_method(Q, p, A, b, v0, t, mu, eps)\n",
    "    v_star = v_outer_seq[-1]\n",
    "    \n",
    "    w = recover_w(X, y, lambd, v_star)\n",
    "    primal_opt_value = compute_primal_objective(X, y, w, lambd)\n",
    "    dual_opt_value   = compute_dual_objective(v_star, y)\n",
    "    print(\"mu: {:02d} \\nThe non zero coeffient of w are:\\n {}\\nprimal: {} | dual: {}\\n\\n\".format(mu, w[np.where(w!=0)], \n",
    "                                                                         primal_opt_value,\n",
    "                                                                        dual_opt_value))"
   ]
  },
  {
   "cell_type": "code",
   "execution_count": null,
   "metadata": {},
   "outputs": [],
   "source": []
  },
  {
   "cell_type": "code",
   "execution_count": null,
   "metadata": {},
   "outputs": [],
   "source": []
  }
 ],
 "metadata": {
  "kernelspec": {
   "display_name": "Python 3",
   "language": "python",
   "name": "python3"
  },
  "language_info": {
   "codemirror_mode": {
    "name": "ipython",
    "version": 3
   },
   "file_extension": ".py",
   "mimetype": "text/x-python",
   "name": "python",
   "nbconvert_exporter": "python",
   "pygments_lexer": "ipython3",
   "version": "3.6.9"
  }
 },
 "nbformat": 4,
 "nbformat_minor": 4
}
